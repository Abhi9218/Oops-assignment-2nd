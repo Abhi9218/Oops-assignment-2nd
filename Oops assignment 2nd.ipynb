{
 "cells": [
  {
   "cell_type": "markdown",
   "id": "d8430a1a-8cb5-4d99-b9de-5d5821692ec9",
   "metadata": {},
   "source": [
    "# Oops assignment 2nd"
   ]
  },
  {
   "cell_type": "markdown",
   "id": "c3063186-f3ed-4435-b7cf-12b4f36fbf74",
   "metadata": {},
   "source": [
    "### Q1. What is Abstraction in OOps? Explain with an example."
   ]
  },
  {
   "cell_type": "markdown",
   "id": "6a8a5d66-dc06-4b80-b610-533cd69bdc8b",
   "metadata": {},
   "source": [
    "##### Answer= Abstraction is the process of hiding the internal details of an application from the outer world.        These are the example---"
   ]
  },
  {
   "cell_type": "code",
   "execution_count": 5,
   "id": "daeab075-d79d-4ddc-bb00-48a678a24bb8",
   "metadata": {},
   "outputs": [],
   "source": [
    "import abc\n",
    "class car:\n",
    "    \n",
    "    @abc.abstractmethod\n",
    "    def engine(self):\n",
    "        pass\n",
    "    @abc.abstractmethod\n",
    "    def wheel(self):\n",
    "        pass\n",
    "    @abc.abstractmethod\n",
    "    def colour(self):\n",
    "        pass\n",
    "    @abc.abstractmethod\n",
    "    def compney(self):\n",
    "        pass"
   ]
  },
  {
   "cell_type": "code",
   "execution_count": 6,
   "id": "be2ad076-d844-4c7a-857a-4e616857b631",
   "metadata": {},
   "outputs": [],
   "source": [
    "class car_details:\n",
    "    \n",
    "    def engine(self):\n",
    "        return \"your engine has started\"\n",
    "    \n",
    "    def wheel(self):\n",
    "        return \"your car has 4 wheels\"\n",
    "    \n",
    "    def colour(self):\n",
    "        return \"The colour of your car is balck\"\n",
    "    "
   ]
  },
  {
   "cell_type": "code",
   "execution_count": 9,
   "id": "4e4155dd-1d37-46dc-997f-a0be4a374f90",
   "metadata": {},
   "outputs": [],
   "source": [
    "class vehicle_details:\n",
    "    \n",
    "    def engine(self):\n",
    "        return \"your vehicle engine is not started\"\n",
    "    \n",
    "    def wheel(self):\n",
    "        return \"your vehicle has 2 wheels\"\n",
    "        \n",
    "    def colour(self):\n",
    "        \n",
    "        return \"the colour of your vehivle is white\""
   ]
  },
  {
   "cell_type": "code",
   "execution_count": 10,
   "id": "0734a4f0-2c34-4958-8d8d-769c7ef8f5c2",
   "metadata": {},
   "outputs": [],
   "source": [
    "Abhishek=car_details()"
   ]
  },
  {
   "cell_type": "code",
   "execution_count": 11,
   "id": "5102ba2f-3b7a-4e34-998f-117f83baca33",
   "metadata": {},
   "outputs": [],
   "source": [
    "Amit=vehicle_details()"
   ]
  },
  {
   "cell_type": "code",
   "execution_count": 13,
   "id": "5a9817d1-07cb-4ed8-8570-132689a2274b",
   "metadata": {},
   "outputs": [
    {
     "data": {
      "text/plain": [
       "'The colour of your car is balck'"
      ]
     },
     "execution_count": 13,
     "metadata": {},
     "output_type": "execute_result"
    }
   ],
   "source": [
    "Abhishek.colour()"
   ]
  },
  {
   "cell_type": "code",
   "execution_count": 14,
   "id": "072cfc3a-fb6d-4000-9fbe-004546f8b98e",
   "metadata": {},
   "outputs": [
    {
     "data": {
      "text/plain": [
       "'the colour of your vehivle is white'"
      ]
     },
     "execution_count": 14,
     "metadata": {},
     "output_type": "execute_result"
    }
   ],
   "source": [
    "Amit.colour()"
   ]
  },
  {
   "cell_type": "markdown",
   "id": "2f9c9ca3-ee3d-482b-b639-c1b94b7d1bc3",
   "metadata": {},
   "source": [
    "### Q2. Differentiate between Abstraction and Encapsulation. Explain with an example."
   ]
  },
  {
   "cell_type": "markdown",
   "id": "1254e9f5-a9c7-4d6a-b4c9-633205c3ad8a",
   "metadata": {},
   "source": [
    "##### Abstraction= Abstraction is the process of hiding the internal details of an application from the outer world.\n",
    "\n",
    "##### Encapsulation=Encapsulation describes the idea of wrapping data and the methods that work on data within one unit. This puts restrictions on accessing variables and methods directly and can prevent the accidental modification of data."
   ]
  },
  {
   "cell_type": "markdown",
   "id": "5eb9a7d5-b8da-4668-a815-00f9f30aed7a",
   "metadata": {},
   "source": [
    "Example of abstraction---"
   ]
  },
  {
   "cell_type": "code",
   "execution_count": 3,
   "id": "22acc6ae-d0e9-412b-8206-c49e3e2dce2c",
   "metadata": {},
   "outputs": [],
   "source": [
    "import abc\n",
    "class world:\n",
    "    \n",
    "    @abc.abstractmethod\n",
    "    def india(self):\n",
    "        pass\n",
    "    @abc.abstractmethod\n",
    "    def usa(self):\n",
    "        pass\n",
    "    @abc.abstractmethod\n",
    "    def canada(self):\n",
    "        pass"
   ]
  },
  {
   "cell_type": "code",
   "execution_count": 4,
   "id": "af9ad9a2-eb27-4008-9084-22d66953ef9d",
   "metadata": {},
   "outputs": [],
   "source": [
    "class pwskills:\n",
    "    def india(self):\n",
    "        return \"you are student of india\"\n",
    "    \n",
    "    def usa(self):\n",
    "        return \"you are student of usa\"\n"
   ]
  },
  {
   "cell_type": "code",
   "execution_count": 5,
   "id": "a011a963-4a35-455c-acae-d085b399682d",
   "metadata": {},
   "outputs": [],
   "source": [
    "class allen:\n",
    "    def india(self):\n",
    "        return \"you are student of india belong to allen\"\n",
    "    \n",
    "    def usa(self):\n",
    "        return\"you are student of usa belong to allen\""
   ]
  },
  {
   "cell_type": "code",
   "execution_count": 6,
   "id": "f66b5462-fbbd-4430-894a-5c925aafdce4",
   "metadata": {},
   "outputs": [],
   "source": [
    "Abhi=pwskills()"
   ]
  },
  {
   "cell_type": "code",
   "execution_count": 7,
   "id": "d9a6dd2b-fccf-425e-9ead-3869e1b36262",
   "metadata": {},
   "outputs": [
    {
     "data": {
      "text/plain": [
       "'you are student of india'"
      ]
     },
     "execution_count": 7,
     "metadata": {},
     "output_type": "execute_result"
    }
   ],
   "source": [
    "Abhi.india()\n",
    "\n"
   ]
  },
  {
   "cell_type": "code",
   "execution_count": 8,
   "id": "d815e830-04fa-4750-94e8-1610af05b7ee",
   "metadata": {},
   "outputs": [],
   "source": [
    "Amit=allen()"
   ]
  },
  {
   "cell_type": "code",
   "execution_count": 9,
   "id": "de54fa99-d27d-456e-885b-f33df1a23df8",
   "metadata": {},
   "outputs": [
    {
     "data": {
      "text/plain": [
       "'you are student of india belong to allen'"
      ]
     },
     "execution_count": 9,
     "metadata": {},
     "output_type": "execute_result"
    }
   ],
   "source": [
    "Amit.india()"
   ]
  },
  {
   "cell_type": "code",
   "execution_count": 10,
   "id": "9b9aab7c-7cae-4ec3-92a0-30e5c40d659a",
   "metadata": {},
   "outputs": [
    {
     "data": {
      "text/plain": [
       "'you are student of usa'"
      ]
     },
     "execution_count": 10,
     "metadata": {},
     "output_type": "execute_result"
    }
   ],
   "source": [
    "Abhi.usa()"
   ]
  },
  {
   "cell_type": "code",
   "execution_count": 11,
   "id": "042ce048-d342-4508-92ca-25048392558b",
   "metadata": {},
   "outputs": [
    {
     "data": {
      "text/plain": [
       "'you are student of usa belong to allen'"
      ]
     },
     "execution_count": 11,
     "metadata": {},
     "output_type": "execute_result"
    }
   ],
   "source": [
    "Amit.usa()"
   ]
  },
  {
   "cell_type": "markdown",
   "id": "7bc43d4a-dd3f-4881-aec5-3280a1324619",
   "metadata": {},
   "source": [
    "#### Example of encapsulation---"
   ]
  },
  {
   "cell_type": "code",
   "execution_count": null,
   "id": "e5112a32-65d8-41bb-a001-44a2effece81",
   "metadata": {},
   "outputs": [],
   "source": [
    "class bank_account:\n",
    "    \n",
    "    def __init__(self,balance,deposit):\n",
    "        self.__balance=balance\n",
    "        self.__deposit=deposit\n",
    "        \n",
    "    def return_bank_details(self):\n",
    "        return self.balance,self.deposit"
   ]
  },
  {
   "cell_type": "code",
   "execution_count": 3,
   "id": "1a0782e0-914d-4e09-a8f3-493cc6da666f",
   "metadata": {},
   "outputs": [],
   "source": [
    "Abhishek=bank_account(2500,2000)"
   ]
  },
  {
   "cell_type": "markdown",
   "id": "be782ded-e49f-4437-ae93-3b17678a4a9c",
   "metadata": {},
   "source": [
    " Abhishek.      # Here, after pressing the tab key.i am not able to check the banks details, Due to the encapsulation"
   ]
  },
  {
   "cell_type": "markdown",
   "id": "ae933cfe-bcd7-46e2-8fa3-271ae00e9fb9",
   "metadata": {},
   "source": [
    "### Q3. What is abc module in python? Why is it used?"
   ]
  },
  {
   "cell_type": "markdown",
   "id": "c01da108-5573-4635-ab24-f766f1ef265c",
   "metadata": {},
   "source": [
    "Answer=In Python, the abc module stands for \"Abstract Base Classes.\" It is part of the Python standard library and provides a way to define abstract classes. Abstract base classes are classes that are meant to be inherited from but not instantiated directly. They serve as blueprints for derived classes and provide a common interface for a set of subclasses."
   ]
  },
  {
   "cell_type": "markdown",
   "id": "6ae1acea-95f0-4329-ae13-81a7002e7825",
   "metadata": {},
   "source": [
    "### Q4. How can we achieve data abstraction?"
   ]
  },
  {
   "cell_type": "markdown",
   "id": "3e6553d2-e959-4b11-b932-122af07d0df5",
   "metadata": {},
   "source": [
    "Answer=We can define an abstract method using @abstractmethod keyword on the top of a method. we can use abc module of python to achive data abstraction in python to define an abstract method in python we can import abstractmethod from the abc module of python"
   ]
  },
  {
   "cell_type": "raw",
   "id": "a5e1e4cc-dd4d-4671-a274-f6cfa3b97177",
   "metadata": {},
   "source": [
    "Example--"
   ]
  },
  {
   "cell_type": "code",
   "execution_count": 8,
   "id": "3609f401-46cc-48b3-920a-1aa092254cc2",
   "metadata": {},
   "outputs": [],
   "source": [
    "import abc \n",
    "\n",
    "class class1:\n",
    "    @abc.abstractmethod\n",
    "    def exam1(self):\n",
    "        pass      #Body will always be empty\n",
    "    @abc.abstractmethod\n",
    "    def exam2(self):\n",
    "        pass"
   ]
  },
  {
   "cell_type": "markdown",
   "id": "be8044e5-c120-4aa7-8906-bca68f502ef7",
   "metadata": {},
   "source": [
    "### Q5. Can we create an instance of an abstract class? Explain your answer."
   ]
  },
  {
   "cell_type": "markdown",
   "id": "b104f2ff-1065-4464-a170-2b1fbda1af25",
   "metadata": {},
   "source": [
    "Answer=No, you cannot create an instance of an abstract class in most programming languages. An abstract class is a class that is meant to be inherited by other classes and serves as a blueprint for creating derived classes. It defines common attributes and behaviors that the derived classes must implement.\n",
    "\n",
    "The purpose of an abstract class is to provide a common interface and partial implementation for the derived classes. It contains one or more abstract methods that have no implementation in the abstract class itself but must be implemented in the derived classes.\n",
    "\n",
    "Since an abstract class is incomplete and may contain methods without implementation, it doesn't make sense to create an instance of the abstract class itself. It is meant to be extended by other classes to provide the missing implementation details.\n",
    "\n",
    "In most programming languages, including Java and C++, attempting to create an instance of an abstract class will result in a compilation error. The intention is to enforce the concept of abstraction and ensure that the abstract class is only used as a base for derived classes."
   ]
  },
  {
   "cell_type": "code",
   "execution_count": null,
   "id": "f58d428c-e6ec-48c7-85ce-c7f80d6db728",
   "metadata": {},
   "outputs": [],
   "source": []
  }
 ],
 "metadata": {
  "kernelspec": {
   "display_name": "Python 3 (ipykernel)",
   "language": "python",
   "name": "python3"
  },
  "language_info": {
   "codemirror_mode": {
    "name": "ipython",
    "version": 3
   },
   "file_extension": ".py",
   "mimetype": "text/x-python",
   "name": "python",
   "nbconvert_exporter": "python",
   "pygments_lexer": "ipython3",
   "version": "3.10.8"
  }
 },
 "nbformat": 4,
 "nbformat_minor": 5
}
